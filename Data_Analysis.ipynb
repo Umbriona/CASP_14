{
 "cells": [
  {
   "cell_type": "markdown",
   "metadata": {},
   "source": [
    "# Raw data analysis"
   ]
  },
  {
   "cell_type": "code",
   "execution_count": 1,
   "metadata": {},
   "outputs": [],
   "source": [
    "# Imports\n",
    "import os\n",
    "import numpy as np\n",
    "import pandas as pd\n",
    "from Bio import SeqIO\n",
    "import matplotlib.pyplot as plt\n",
    "from utils import preprocessing as pre"
   ]
  },
  {
   "cell_type": "code",
   "execution_count": 30,
   "metadata": {},
   "outputs": [],
   "source": [
    "# Scope data\n",
    "\n",
    "path = '../Data_Sets/PDB/FASTA'\n",
    "file_name = 'mask_8.fasta'\n",
    "dict_ = {'id':[] ,'mask':[],'seq':[], 'mask_bin':[], 'seq_bin':[], 'loss_weight':[], 'seq_int':[]}\n",
    "count = 0\n",
    "seq_length = 1024\n",
    "for i, rec in enumerate(SeqIO.parse(os.path.join(path,file_name),'fasta')):\n",
    "    if i >500000:\n",
    "        break\n",
    "    dict_['id'].append(rec.id)\n",
    "    dict_['mask'].append(rec.description.split('|lcl|')[-1])\n",
    "    dict_['seq'].append(rec.seq)\n",
    "    dict_['loss_weight'].append(pre.loss_weight(len(list(rec.seq)),seq_length))\n",
    "    dict_['mask_bin'].append(pre.to_binary_mask(pre.mask_padding(rec.description.split('|lcl|')[-1], length=seq_length), 8))\n",
    "    #dict_['seq_bin'].append(pre.zero_padding(pre.to_binary(rec.seq),length=seq_length))\n",
    "    dict_['seq_int'].append(pre.to_int(rec.seq, max_length=seq_length))\n",
    "    \n"
   ]
  },
  {
   "cell_type": "code",
   "execution_count": null,
   "metadata": {},
   "outputs": [],
   "source": []
  },
  {
   "cell_type": "code",
   "execution_count": 31,
   "metadata": {},
   "outputs": [
    {
     "data": {
      "image/png": "[encoded data removed]",
      "text/plain": [
       "<Figure size 432x288 with 2 Axes>"
      ]
     },
     "metadata": {
      "needs_background": "light"
     },
     "output_type": "display_data"
    },
    {
     "name": "stdout",
     "output_type": "stream",
     "text": [
      "[0.36662015 0.01372188 0.23710783 0.03837334 0.00655157 0.12591035\n",
      " 0.11040446 0.24416756] [0.    0.875 1.75  2.625 3.5   4.375 5.25  6.125 7.   ] <a list of 8 Patch objects>\n"
     ]
    }
   ],
   "source": [
    "seq_len_dist = [len(i) for i in dict_['seq']]\n",
    "mask_dist = []\n",
    "for i in dict_['mask']:\n",
    "    for j in i:\n",
    "        if j == 'H':\n",
    "            mask_dist.append(0)\n",
    "        elif j == 'B':\n",
    "            mask_dist.append(1)\n",
    "        elif j == 'E':\n",
    "            mask_dist.append(2)\n",
    "        elif j == 'G':\n",
    "            mask_dist.append(3)\n",
    "        elif j == 'I':\n",
    "            mask_dist.append(4)\n",
    "        elif j == 'T':\n",
    "            mask_dist.append(5)\n",
    "        elif j== 'S':\n",
    "            mask_dist.append(6)\n",
    "        elif j== '-':\n",
    "            mask_dist.append(7)\n",
    "        elif j == 'C':\n",
    "            mask_dist.append(2)\n",
    "\n",
    "ax1 = plt.subplot(1,2,1)\n",
    "\n",
    "n, bins, patches = ax1.hist(seq_len_dist, 50,density = True, cumulative = True)\n",
    "ax1.set_xlim(0,20000)\n",
    "ax2 = plt.subplot(1,2,2)\n",
    "n, bins, patches = ax2.hist(mask_dist, 8, density=True)\n",
    "plt.show()\n",
    "print(n, bins, patches)"
   ]
  },
  {
   "cell_type": "code",
   "execution_count": 28,
   "metadata": {},
   "outputs": [
    {
     "data": {
      "text/plain": [
       "0.43315026623351643"
      ]
     },
     "execution_count": 28,
     "metadata": {},
     "output_type": "execute_result"
    }
   ],
   "source": [
    "1.2994508*0.333333333"
   ]
  },
  {
   "cell_type": "code",
   "execution_count": 10,
   "metadata": {},
   "outputs": [
    {
     "name": "stdout",
     "output_type": "stream",
     "text": [
      "0.41736486208682433\n",
      "0.21053932105269663\n",
      "0.37209582186047907\n"
     ]
    }
   ],
   "source": [
    "d = {'H':0.372, 'B':0.2105, 'C':0.4173}\n",
    "print(0.62604729*0.66666667)\n",
    "print(0.31580898*0.66666667)\n",
    "print(0.55814373*0.66666667)"
   ]
  },
  {
   "cell_type": "code",
   "execution_count": 32,
   "metadata": {},
   "outputs": [
    {
     "data": {
      "image/png": "[encoded data removed]",
      "text/plain": [
       "<Figure size 432x288 with 2 Axes>"
      ]
     },
     "metadata": {
      "needs_background": "light"
     },
     "output_type": "display_data"
    },
    {
     "name": "stdout",
     "output_type": "stream",
     "text": [
      "[0.36662015 0.01372188 0.23710783 0.03837334 0.00655157 0.12591035\n",
      " 0.11040446 0.24416756] [0.    0.875 1.75  2.625 3.5   4.375 5.25  6.125 7.   ] <a list of 8 Patch objects>\n"
     ]
    }
   ],
   "source": [
    "ax1 = plt.subplot(1,2,1)\n",
    "\n",
    "n, bins, patches = ax1.hist(seq_len_dist, 50,density = True, cumulative = True)\n",
    "ax1.set_xlim(0,10000)\n",
    "ax2 = plt.subplot(1,2,2)\n",
    "n, bins, patches = ax2.hist(mask_dist, 8, density=True)\n",
    "plt.show()\n",
    "print(n, bins, patches)"
   ]
  },
  {
   "cell_type": "code",
   "execution_count": 2,
   "metadata": {},
   "outputs": [],
   "source": [
    "path = '../Data_Sets/PDB/FASTA'\n",
    "file_name_tor = 'mask_torsion.fasta'\n",
    "file_name_mas = 'mask_3.fasta'\n",
    "dict_ = {'id':[] ,'mask':[],'seq':[], 'mask_bin':[], 'seq_bin':[], 'loss_weight':[], 'seq_int':[], 'area':[], 'angle':[]}\n",
    "count = 0\n",
    "seq_length = 1024\n",
    "d = {'H':1/0.372, 'B':1/0.2105, 'C':1/0.4173}\n",
    "for i, rec in enumerate(SeqIO.parse(os.path.join(path,file_name_tor),'fasta')):\n",
    "    if i >50000:\n",
    "        break\n",
    "    if len(rec.seq)>seq_length:\n",
    "        continue\n",
    "    dict_['id'].append(rec.id)\n",
    "    dict_['angle'].append(pre.zero_padding(np.array([ j.split(',')[1:] for j in rec.description.split('|lcl|')[-1].split(';')][1:]),length=seq_length))\n",
    "    tmp = np.zeros((seq_length,))\n",
    "    f = [j.split(',')[0] if j.split(',')[0] != 'NA' else 0.0 for j in rec.description.split('|lcl|')[-1].split(';')][1:]\n",
    "    tmp[:len(rec.seq)] = f\n",
    "    dict_['area'].append(tmp)\n",
    "    dict_['seq'].append(rec.seq)\n",
    "    dict_['seq_int'].append(pre.to_int(rec.seq, max_length=seq_length))\n",
    "    \n",
    "for i, rec in enumerate(SeqIO.parse(os.path.join(path,file_name_mas),'fasta')):\n",
    "    if i >50000:\n",
    "        break\n",
    "    if len(rec.seq)>seq_length:\n",
    "        continue    \n",
    "    dict_['loss_weight'].append(pre.loss_weight(rec.description.split('|lcl|')[-1], d,seq_length))\n",
    "    dict_['mask_bin'].append(pre.to_binary_mask(pre.mask_padding(rec.description.split('|lcl|')[-1], length=seq_length)))\n",
    "    dict_['mask'].append(rec.description.split('|lcl|')[-1])\n",
    "    #dict_['seq_bin'].append(pre.zero_padding(pre.to_binary(rec.seq),length=seq_length))"
   ]
  },
  {
   "cell_type": "code",
   "execution_count": 13,
   "metadata": {},
   "outputs": [
    {
     "name": "stdout",
     "output_type": "stream",
     "text": [
      "6.281439977927592 0.0\n",
      "6.281439977927592 0.0\n"
     ]
    },
    {
     "data": {
      "image/png": "[encoded data removed]",
      "text/plain": [
       "<Figure size 432x288 with 2 Axes>"
      ]
     },
     "metadata": {
      "needs_background": "light"
     },
     "output_type": "display_data"
    }
   ],
   "source": [
    "angles = np.array(dict_['angle'])\n",
    "phi = ((360 + angles[angles[:,:,0] != 0,0]) % 360)/180 * np.pi\n",
    "psi = ((360 + angles[angles[:,:,1] != 0,1]) % 360)/180 * np.pi\n",
    "\n",
    "print(np.max(phi), np.min(phi))\n",
    "print(np.max(psi), np.min(psi))\n",
    "\n",
    "ax1 = plt.subplot(1,2,1)\n",
    "\n",
    "ax1.hist(phi, 50, density = True)\n",
    "ax2 = plt.subplot(1,2,2)\n",
    "ax2.hist(psi, 50, density=True)\n",
    "plt.show()\n",
    "#print(n, bins, patches)"
   ]
  },
  {
   "cell_type": "code",
   "execution_count": 8,
   "metadata": {},
   "outputs": [
    {
     "name": "stdout",
     "output_type": "stream",
     "text": [
      "(46491, 1024)\n"
     ]
    }
   ],
   "source": [
    "print(phi.shape)"
   ]
  },
  {
   "cell_type": "code",
   "execution_count": null,
   "metadata": {},
   "outputs": [],
   "source": []
  }
 ],
 "metadata": {
  "kernelspec": {
   "display_name": "Python 3",
   "language": "python",
   "name": "python3"
  },
  "language_info": {
   "codemirror_mode": {
    "name": "ipython",
    "version": 3
   },
   "file_extension": ".py",
   "mimetype": "text/x-python",
   "name": "python",
   "nbconvert_exporter": "python",
   "pygments_lexer": "ipython3",
   "version": "3.7.7"
  }
 },
 "nbformat": 4,
 "nbformat_minor": 4
}
