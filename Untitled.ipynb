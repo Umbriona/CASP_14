{
 "cells": [
  {
   "cell_type": "code",
   "execution_count": 1,
   "metadata": {},
   "outputs": [],
   "source": [
    "from alg_search import gen_alg\n",
    "\n",
    "\n",
    "space = {'dense_1': [10, 20], 'dense_2': [64, 128, 256],'dense_3':[1, 2, 3, 4, 5]}\n",
    "\n",
    "obj = gen_alg(space)"
   ]
  },
  {
   "cell_type": "code",
   "execution_count": 2,
   "metadata": {},
   "outputs": [
    {
     "name": "stdout",
     "output_type": "stream",
     "text": [
      "[[ 20. 128.]\n",
      " [ 30.  64.]\n",
      " [ 40. 256.]\n",
      " [ 40. 128.]\n",
      " [ 30. 256.]\n",
      " [ 40. 256.]\n",
      " [ 20. 128.]\n",
      " [ 20.  64.]\n",
      " [ 40.  64.]\n",
      " [ 30.  64.]]\n"
     ]
    }
   ],
   "source": [
    "print(obj.pop)"
   ]
  },
  {
   "cell_type": "code",
   "execution_count": 18,
   "metadata": {},
   "outputs": [
    {
     "name": "stdout",
     "output_type": "stream",
     "text": [
      "[[ 20. 256.   3.]\n",
      " [ 10.  64.   5.]\n",
      " [ 10. 128.   1.]\n",
      " [ 10. 256.   3.]\n",
      " [ 20. 256.   3.]\n",
      " [ 20. 256.   1.]\n",
      " [ 10. 256.   4.]\n",
      " [ 20. 128.   3.]\n",
      " [ 10. 256.   4.]\n",
      " [ 20. 256.   3.]]\n",
      "[[ 20. 256.   3.]\n",
      " [ 10. 128.   5.]\n",
      " [ 10. 128.   1.]\n",
      " [ 10. 256.   3.]\n",
      " [ 20. 256.   3.]\n",
      " [ 20. 128.   1.]\n",
      " [ 10. 256.   4.]\n",
      " [ 20. 128.   3.]\n",
      " [ 10. 256.   4.]\n",
      " [ 20. 256.   3.]]\n",
      "0\n",
      "2\n",
      "4\n",
      "6\n",
      "8\n",
      "10\n",
      "12\n",
      "14\n",
      "16\n",
      "18\n",
      "[[ 20. 256.   3.]\n",
      " [ 10. 128.   5.]\n",
      " [ 10. 128.   1.]\n",
      " [ 10. 256.   3.]\n",
      " [ 20. 256.   3.]\n",
      " [ 10. 128.   1.]\n",
      " [ 10. 128.   4.]\n",
      " [ 20. 128.   3.]\n",
      " [ 10. 256.   4.]\n",
      " [ 20. 256.   3.]]\n"
     ]
    }
   ],
   "source": [
    "print(obj.pop)\n",
    "obj.mutate()\n",
    "print(obj.pop)\n",
    "obj.cross_over([2,2,2,3,2,4,5,1,3,4])\n",
    "print(obj.pop)"
   ]
  },
  {
   "cell_type": "code",
   "execution_count": 4,
   "metadata": {},
   "outputs": [
    {
     "name": "stdout",
     "output_type": "stream",
     "text": [
      "Number of devices: 1\n"
     ]
    }
   ],
   "source": [
    "import tensorflow as tf\n",
    "\n",
    "strategy =tf.distribute.OneDeviceStrategy(device=\"/gpu:1\")\n",
    "\n",
    "print('Number of devices: {}'.format(strategy.num_replicas_in_sync))"
   ]
  },
  {
   "cell_type": "code",
   "execution_count": 1,
   "metadata": {},
   "outputs": [
    {
     "name": "stdout",
     "output_type": "stream",
     "text": [
      "Val_loss:  1.0512039999999998 \n",
      " [0.  0.4 0.1]\n",
      "Val_loss:  1.0512039999999998 \n",
      " [0.  0.4 0.1]\n",
      "Val_loss:  1.0823040000000002 \n",
      " [0.  0.4 0.6]\n",
      "Val_loss:  1.0823040000000002 \n",
      " [0.  0.4 0.6]\n",
      "Val_loss:  1.0823040000000002 \n",
      " [0.  0.4 0.6]\n",
      "Val_loss:  1.3261000000000003 \n",
      " [-0.2 -0.2  0.5]\n",
      "Val_loss:  1.3261000000000003 \n",
      " [-0.2 -0.2  0.5]\n",
      "Val_loss:  1.3261000000000003 \n",
      " [-0.2 -0.2  0.5]\n",
      "Val_loss:  1.3176960000000002 \n",
      " [-0.2 -0.2  0.4]\n",
      "Val_loss:  1.3176960000000002 \n",
      " [-0.2 -0.2  0.4]\n"
     ]
    }
   ],
   "source": [
    "def fun(x):\n",
    "    return 4*x[0]**2+ 0.4*x[1]**3 +0.2*x[2]**5\n",
    "\n",
    "from alg_search import gen_alg\n",
    "import numpy as np\n",
    "\n",
    "space = {'dense_1': [-0.2, -0.1, 0 ,0.1, 0.2, 0.3, 0.4, 0.5], 'dense_2': [-0.2 , 0.2, 0.4, 0.6, 1],'dense_3':[-0.1, 0.1, 0.2, 0.3, 0.4, 0.5, 0.6]}\n",
    "\n",
    "obj = gen_alg(space, pop_size=20)\n",
    "\n",
    "for i in range(10):\n",
    "    rec = np.zeros((obj.pop_size,))\n",
    "    for j in range(obj.pop_size):\n",
    "        x = obj.pop[j,:]\n",
    "        \n",
    "        rec[j] = fun(x)\n",
    "    mi = np.min(rec)\n",
    "    rec = rec +(mi + 1)\n",
    "   # print(rec)\n",
    "    #print(1/rec)\n",
    "    #print(rec)\n",
    "    obj.print_best(rec)\n",
    "    obj.cross_over(rec)\n",
    "    obj.mutate()\n"
   ]
  },
  {
   "cell_type": "code",
   "execution_count": null,
   "metadata": {},
   "outputs": [],
   "source": []
  },
  {
   "cell_type": "code",
   "execution_count": null,
   "metadata": {},
   "outputs": [],
   "source": []
  }
 ],
 "metadata": {
  "kernelspec": {
   "display_name": "Python 3",
   "language": "python",
   "name": "python3"
  },
  "language_info": {
   "codemirror_mode": {
    "name": "ipython",
    "version": 3
   },
   "file_extension": ".py",
   "mimetype": "text/x-python",
   "name": "python",
   "nbconvert_exporter": "python",
   "pygments_lexer": "ipython3",
   "version": "3.7.7"
  }
 },
 "nbformat": 4,
 "nbformat_minor": 4
}
